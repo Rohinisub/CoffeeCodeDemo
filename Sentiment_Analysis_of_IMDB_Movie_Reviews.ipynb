{
  "metadata": {
    "kernelspec": {
      "language": "python",
      "display_name": "Python 3",
      "name": "python3"
    },
    "language_info": {
      "pygments_lexer": "ipython3",
      "nbconvert_exporter": "python",
      "version": "3.6.4",
      "file_extension": ".py",
      "codemirror_mode": {
        "name": "ipython",
        "version": 3
      },
      "name": "python",
      "mimetype": "text/x-python"
    },
    "kaggle": {
      "accelerator": "none",
      "dataSources": [
        {
          "sourceId": 320111,
          "sourceType": "datasetVersion",
          "datasetId": 134715
        }
      ],
      "dockerImageVersionId": 28120,
      "isInternetEnabled": false,
      "language": "python",
      "sourceType": "notebook",
      "isGpuEnabled": false
    },
    "colab": {
      "name": " Sentiment Analysis of IMDB Movie Reviews",
      "provenance": [],
      "include_colab_link": true
    }
  },
  "nbformat_minor": 0,
  "nbformat": 4,
  "cells": [
    {
      "cell_type": "markdown",
      "metadata": {
        "id": "view-in-github",
        "colab_type": "text"
      },
      "source": [
        "<a href=\"https://colab.research.google.com/github/Rohinisub/CoffeeCodeDemo/blob/main/Sentiment_Analysis_of_IMDB_Movie_Reviews.ipynb\" target=\"_parent\"><img src=\"https://colab.research.google.com/assets/colab-badge.svg\" alt=\"Open In Colab\"/></a>"
      ]
    },
    {
      "source": [
        "\n",
        "# IMPORTANT: RUN THIS CELL IN ORDER TO IMPORT YOUR KAGGLE DATA SOURCES\n",
        "# TO THE CORRECT LOCATION (/kaggle/input) IN YOUR NOTEBOOK,\n",
        "# THEN FEEL FREE TO DELETE THIS CELL.\n",
        "# NOTE: THIS NOTEBOOK ENVIRONMENT DIFFERS FROM KAGGLE'S PYTHON\n",
        "# ENVIRONMENT SO THERE MAY BE MISSING LIBRARIES USED BY YOUR\n",
        "# NOTEBOOK.\n",
        "\n",
        "import os\n",
        "import sys\n",
        "from tempfile import NamedTemporaryFile\n",
        "from urllib.request import urlopen\n",
        "from urllib.parse import unquote, urlparse\n",
        "from urllib.error import HTTPError\n",
        "from zipfile import ZipFile\n",
        "import tarfile\n",
        "import shutil\n",
        "\n",
        "CHUNK_SIZE = 40960\n",
        "DATA_SOURCE_MAPPING = ':https%3A%2F%2Fstorage.googleapis.com%2Fkaggle-data-sets%2F134715%2F320111%2Fbundle%2Farchive.zip%3FX-Goog-Algorithm%3DGOOG4-RSA-SHA256%26X-Goog-Credential%3Dgcp-kaggle-com%2540kaggle-161607.iam.gserviceaccount.com%252F20240916%252Fauto%252Fstorage%252Fgoog4_request%26X-Goog-Date%3D20240916T113707Z%26X-Goog-Expires%3D259200%26X-Goog-SignedHeaders%3Dhost%26X-Goog-Signature%3D66f2d09bad53d568d5d6028da5dd630a2e29656dbefa1a14ffb6db4b0a1dcba3f6d2ae7a83811ba064f421a2d6deb1631ad77d6f0e39fd9c2445f7ba027e17ea6f251153e8e6761c7866ed24cab52c858159e9cfd8be4cbc6368b0a4ec208debdefa1193932767b3973dc4e3ff43451f7d0af3a987d491b8c390d89b46f62664d283100a1e6914712cd405a4f533e3690e094d51842f0ee4ce2b24cdb002c4284622889198428ec53e4ca5ae8a1ef9e65ec88a2d5971bc5fa06a98c6cdab2f4cbd4cda0a704de78c9b2824fef30457e62dcbfda83286d801e1e129ee5815b4fd21090288efc7239ab33980bff98fce5cc721b79b31f4ef0442bc0d2a44a04c67'\n",
        "\n",
        "KAGGLE_INPUT_PATH='/kaggle/input'\n",
        "KAGGLE_WORKING_PATH='/kaggle/working'\n",
        "KAGGLE_SYMLINK='kaggle'\n",
        "\n",
        "!umount /kaggle/input/ 2> /dev/null\n",
        "shutil.rmtree('/kaggle/input', ignore_errors=True)\n",
        "os.makedirs(KAGGLE_INPUT_PATH, 0o777, exist_ok=True)\n",
        "os.makedirs(KAGGLE_WORKING_PATH, 0o777, exist_ok=True)\n",
        "\n",
        "try:\n",
        "  os.symlink(KAGGLE_INPUT_PATH, os.path.join(\"..\", 'input'), target_is_directory=True)\n",
        "except FileExistsError:\n",
        "  pass\n",
        "try:\n",
        "  os.symlink(KAGGLE_WORKING_PATH, os.path.join(\"..\", 'working'), target_is_directory=True)\n",
        "except FileExistsError:\n",
        "  pass\n",
        "\n",
        "for data_source_mapping in DATA_SOURCE_MAPPING.split(','):\n",
        "    directory, download_url_encoded = data_source_mapping.split(':')\n",
        "    download_url = unquote(download_url_encoded)\n",
        "    filename = urlparse(download_url).path\n",
        "    destination_path = os.path.join(KAGGLE_INPUT_PATH, directory)\n",
        "    try:\n",
        "        with urlopen(download_url) as fileres, NamedTemporaryFile() as tfile:\n",
        "            total_length = fileres.headers['content-length']\n",
        "            print(f'Downloading {directory}, {total_length} bytes compressed')\n",
        "            dl = 0\n",
        "            data = fileres.read(CHUNK_SIZE)\n",
        "            while len(data) > 0:\n",
        "                dl += len(data)\n",
        "                tfile.write(data)\n",
        "                done = int(50 * dl / int(total_length))\n",
        "                sys.stdout.write(f\"\\r[{'=' * done}{' ' * (50-done)}] {dl} bytes downloaded\")\n",
        "                sys.stdout.flush()\n",
        "                data = fileres.read(CHUNK_SIZE)\n",
        "            if filename.endswith('.zip'):\n",
        "              with ZipFile(tfile) as zfile:\n",
        "                zfile.extractall(destination_path)\n",
        "            else:\n",
        "              with tarfile.open(tfile.name) as tarfile:\n",
        "                tarfile.extractall(destination_path)\n",
        "            print(f'\\nDownloaded and uncompressed: {directory}')\n",
        "    except HTTPError as e:\n",
        "        print(f'Failed to load (likely expired) {download_url} to path {destination_path}')\n",
        "        continue\n",
        "    except OSError as e:\n",
        "        print(f'Failed to load {download_url} to path {destination_path}')\n",
        "        continue\n",
        "\n",
        "print('Data source import complete.')\n"
      ],
      "metadata": {
        "id": "0kkpsMvxn07T"
      },
      "cell_type": "code",
      "outputs": [],
      "execution_count": null
    },
    {
      "cell_type": "markdown",
      "source": [
        "**Sentiment Analysis of IMDB Movie Reviews**"
      ],
      "metadata": {
        "_uuid": "8f2839f25d086af736a60e9eeb907d3b93b6e0e5",
        "_cell_guid": "b1076dfc-b9ad-4769-8c92-a6c4dae69d19",
        "trusted": true,
        "id": "nAvXkGVzn07V"
      }
    },
    {
      "cell_type": "markdown",
      "source": [
        "**Problem Statement:**\n",
        "\n",
        "In this, we have to predict the number of positive and negative reviews based on sentiments by using different classification models."
      ],
      "metadata": {
        "id": "CjL3gL_5n07W"
      }
    },
    {
      "cell_type": "markdown",
      "source": [
        "**Import necessary libraries**"
      ],
      "metadata": {
        "_uuid": "1424638f5259100af9f9a5c1b05bd23cf5b71e51",
        "id": "Eiyq6N6Zn07W"
      }
    },
    {
      "cell_type": "code",
      "source": [
        "#Load the libraries\n",
        "import numpy as np\n",
        "import pandas as pd\n",
        "import seaborn as sns\n",
        "import matplotlib.pyplot as plt\n",
        "import nltk\n",
        "from sklearn.feature_extraction.text import CountVectorizer\n",
        "from sklearn.feature_extraction.text import TfidfVectorizer\n",
        "from sklearn.preprocessing import LabelBinarizer\n",
        "from nltk.corpus import stopwords\n",
        "from nltk.stem.porter import PorterStemmer\n",
        "from wordcloud import WordCloud,STOPWORDS\n",
        "from nltk.stem import WordNetLemmatizer\n",
        "from nltk.tokenize import word_tokenize,sent_tokenize\n",
        "from bs4 import BeautifulSoup\n",
        "import spacy\n",
        "import re,string,unicodedata\n",
        "from nltk.tokenize.toktok import ToktokTokenizer\n",
        "from nltk.stem import LancasterStemmer,WordNetLemmatizer\n",
        "from sklearn.linear_model import LogisticRegression,SGDClassifier\n",
        "from sklearn.naive_bayes import MultinomialNB\n",
        "from sklearn.svm import SVC\n",
        "from textblob import TextBlob\n",
        "from textblob import Word\n",
        "from sklearn.metrics import classification_report,confusion_matrix,accuracy_score\n",
        "\n",
        "import os\n",
        "print(os.listdir(\"../input\"))\n",
        "import warnings\n",
        "warnings.filterwarnings('ignore')\n"
      ],
      "metadata": {
        "_cell_guid": "79c7e3d0-c299-4dcb-8224-4455121ee9b0",
        "_uuid": "d629ff2d2480ee46fbb7e2d37f6b5fab8052498a",
        "trusted": true,
        "id": "eOR9H9bJn07W"
      },
      "execution_count": null,
      "outputs": []
    },
    {
      "cell_type": "markdown",
      "source": [
        "**Import the training dataset**"
      ],
      "metadata": {
        "_uuid": "be1b642cce343f7a8f68f8c91f7c50372cdf4381",
        "id": "1kFDS0Wcn07X"
      }
    },
    {
      "cell_type": "code",
      "source": [
        "#importing the training data\n",
        "imdb_data=pd.read_csv('../input/IMDB Dataset.csv')\n",
        "print(imdb_data.shape)\n",
        "imdb_data.head(10)"
      ],
      "metadata": {
        "_uuid": "4c593c17588723c0b0b0f19851cb70a8447ced76",
        "scrolled": true,
        "trusted": true,
        "id": "ApEHGWAgn07X"
      },
      "execution_count": null,
      "outputs": []
    },
    {
      "cell_type": "markdown",
      "source": [
        "**Exploratery data analysis**"
      ],
      "metadata": {
        "_uuid": "1ad3773974351ed9bdf389b2847d7475b36c2295",
        "id": "GJqgOkdJn07X"
      }
    },
    {
      "cell_type": "code",
      "source": [
        "#Summary of the dataset\n",
        "imdb_data.describe()"
      ],
      "metadata": {
        "_uuid": "7f11c83b1320c8982b36889145f7f770563674a8",
        "trusted": true,
        "id": "k0-ZAp6In07X"
      },
      "execution_count": null,
      "outputs": []
    },
    {
      "cell_type": "markdown",
      "source": [
        "**Sentiment count**"
      ],
      "metadata": {
        "_uuid": "453c3fd238f62ab8f649eb01771817e25bc0c77d",
        "id": "ogMfw4QHn07X"
      }
    },
    {
      "cell_type": "code",
      "source": [
        "#sentiment count\n",
        "imdb_data['sentiment'].value_counts()"
      ],
      "metadata": {
        "_uuid": "cb6bb97b0f851947dcf341a1de5708a1f2bc64c1",
        "trusted": true,
        "id": "qTCEmmO3n07X"
      },
      "execution_count": null,
      "outputs": []
    },
    {
      "cell_type": "markdown",
      "source": [
        "We can see that the dataset is balanced."
      ],
      "metadata": {
        "id": "nC7AUD-wn07Y"
      }
    },
    {
      "cell_type": "markdown",
      "source": [
        "**Spliting the training dataset**"
      ],
      "metadata": {
        "_uuid": "f61964573faababe1f7897b77d32815a24954d2f",
        "id": "jOVanKxZn07Y"
      }
    },
    {
      "cell_type": "code",
      "source": [
        "#split the dataset\n",
        "#train dataset\n",
        "train_reviews=imdb_data.review[:40000]\n",
        "train_sentiments=imdb_data.sentiment[:40000]\n",
        "#test dataset\n",
        "test_reviews=imdb_data.review[40000:]\n",
        "test_sentiments=imdb_data.sentiment[40000:]\n",
        "print(train_reviews.shape,train_sentiments.shape)\n",
        "print(test_reviews.shape,test_sentiments.shape)"
      ],
      "metadata": {
        "_uuid": "d3aaabff555e07feb11c72cc3a6e457615975ffe",
        "trusted": true,
        "id": "9eVMsAuSn07Y"
      },
      "execution_count": null,
      "outputs": []
    },
    {
      "cell_type": "markdown",
      "source": [
        "**Text normalization**"
      ],
      "metadata": {
        "_uuid": "90da29c3b79f46f41d7391a2a116065b616d0fac",
        "id": "EyQdAZCLn07Y"
      }
    },
    {
      "cell_type": "code",
      "source": [
        "#Tokenization of text\n",
        "tokenizer=ToktokTokenizer()\n",
        "#Setting English stopwords\n",
        "stopword_list=nltk.corpus.stopwords.words('english')"
      ],
      "metadata": {
        "_uuid": "f000c43d91f68f6668539f089c6a54c5ce3bd819",
        "trusted": true,
        "id": "fCf3dzjUn07Y"
      },
      "execution_count": null,
      "outputs": []
    },
    {
      "cell_type": "markdown",
      "source": [
        "**Removing html strips and noise text**"
      ],
      "metadata": {
        "_uuid": "328b6e5977da3e055ad4b2e11a31e5e12ccf3b16",
        "id": "MX0WQfwUn07Y"
      }
    },
    {
      "cell_type": "code",
      "source": [
        "#Removing the html strips\n",
        "def strip_html(text):\n",
        "    soup = BeautifulSoup(text, \"html.parser\")\n",
        "    return soup.get_text()\n",
        "\n",
        "#Removing the square brackets\n",
        "def remove_between_square_brackets(text):\n",
        "    return re.sub('\\[[^]]*\\]', '', text)\n",
        "\n",
        "#Removing the noisy text\n",
        "def denoise_text(text):\n",
        "    text = strip_html(text)\n",
        "    text = remove_between_square_brackets(text)\n",
        "    return text\n",
        "#Apply function on review column\n",
        "imdb_data['review']=imdb_data['review'].apply(denoise_text)"
      ],
      "metadata": {
        "_uuid": "6f6fcafbdadcdcb0c164e37d71fb9d1623f74d0a",
        "trusted": true,
        "id": "GqtQDfTZn07Y"
      },
      "execution_count": null,
      "outputs": []
    },
    {
      "cell_type": "markdown",
      "source": [
        "**Removing special characters**"
      ],
      "metadata": {
        "_uuid": "88117b74761d1047924d6d70f76642faa0e706ac",
        "id": "LFWqgzJNn07Y"
      }
    },
    {
      "cell_type": "code",
      "source": [
        "#Define function for removing special characters\n",
        "def remove_special_characters(text, remove_digits=True):\n",
        "    pattern=r'[^a-zA-z0-9\\s]'\n",
        "    text=re.sub(pattern,'',text)\n",
        "    return text\n",
        "#Apply function on review column\n",
        "imdb_data['review']=imdb_data['review'].apply(remove_special_characters)"
      ],
      "metadata": {
        "_uuid": "219da72b025121fd98081df50ae0fcaace10cc9d",
        "trusted": true,
        "id": "JFn-uxF7n07Y"
      },
      "execution_count": null,
      "outputs": []
    },
    {
      "cell_type": "markdown",
      "source": [
        "**Text stemming\n",
        "**"
      ],
      "metadata": {
        "_uuid": "3b66eeabd5b7b8c251f8b8ddf331140a64bcd514",
        "id": "qG3OHyzln07Z"
      }
    },
    {
      "cell_type": "code",
      "source": [
        "#Stemming the text\n",
        "def simple_stemmer(text):\n",
        "    ps=nltk.porter.PorterStemmer()\n",
        "    text= ' '.join([ps.stem(word) for word in text.split()])\n",
        "    return text\n",
        "#Apply function on review column\n",
        "imdb_data['review']=imdb_data['review'].apply(simple_stemmer)"
      ],
      "metadata": {
        "_uuid": "2295f2946e0ab74c220ad538d0e7adc04d23f697",
        "trusted": true,
        "id": "7mmKlJkin07Z"
      },
      "execution_count": null,
      "outputs": []
    },
    {
      "cell_type": "markdown",
      "source": [
        "**Removing stopwords**"
      ],
      "metadata": {
        "_uuid": "e83107e4a281d84d7ae42b4e2c8d81b7ece438e4",
        "id": "EmKdV2ayn07Z"
      }
    },
    {
      "cell_type": "code",
      "source": [
        "#set stopwords to english\n",
        "stop=set(stopwords.words('english'))\n",
        "print(stop)\n",
        "\n",
        "#removing the stopwords\n",
        "def remove_stopwords(text, is_lower_case=False):\n",
        "    tokens = tokenizer.tokenize(text)\n",
        "    tokens = [token.strip() for token in tokens]\n",
        "    if is_lower_case:\n",
        "        filtered_tokens = [token for token in tokens if token not in stopword_list]\n",
        "    else:\n",
        "        filtered_tokens = [token for token in tokens if token.lower() not in stopword_list]\n",
        "    filtered_text = ' '.join(filtered_tokens)\n",
        "    return filtered_text\n",
        "#Apply function on review column\n",
        "imdb_data['review']=imdb_data['review'].apply(remove_stopwords)"
      ],
      "metadata": {
        "_uuid": "5dbff82b4d2d188d8777b273a75d8ac714d38885",
        "trusted": true,
        "id": "p7oOKo9-n07Z"
      },
      "execution_count": null,
      "outputs": []
    },
    {
      "cell_type": "markdown",
      "source": [
        "**Normalized train reviews**"
      ],
      "metadata": {
        "_uuid": "b35e7499291173119ed42287deac6f0cd96516e1",
        "id": "U0xZR5qIn07Z"
      }
    },
    {
      "cell_type": "code",
      "source": [
        "#normalized train reviews\n",
        "norm_train_reviews=imdb_data.review[:40000]\n",
        "norm_train_reviews[0]\n",
        "#convert dataframe to string\n",
        "#norm_train_string=norm_train_reviews.to_string()\n",
        "#Spelling correction using Textblob\n",
        "#norm_train_spelling=TextBlob(norm_train_string)\n",
        "#norm_train_spelling.correct()\n",
        "#Tokenization using Textblob\n",
        "#norm_train_words=norm_train_spelling.words\n",
        "#norm_train_words"
      ],
      "metadata": {
        "_uuid": "b20c242bd091929ca896ea2c6e936ca00efe6ecf",
        "_kg_hide-output": true,
        "trusted": true,
        "id": "YsVH4QZUn07Z"
      },
      "execution_count": null,
      "outputs": []
    },
    {
      "cell_type": "markdown",
      "source": [
        "**Normalized test reviews**"
      ],
      "metadata": {
        "_uuid": "d69462bb209a66cff86376dc8481d0c0140d894d",
        "id": "x2vfPrG_n07Z"
      }
    },
    {
      "cell_type": "code",
      "source": [
        "#Normalized test reviews\n",
        "norm_test_reviews=imdb_data.review[40000:]\n",
        "norm_test_reviews[45005]\n",
        "##convert dataframe to string\n",
        "#norm_test_string=norm_test_reviews.to_string()\n",
        "#spelling correction using Textblob\n",
        "#norm_test_spelling=TextBlob(norm_test_string)\n",
        "#print(norm_test_spelling.correct())\n",
        "#Tokenization using Textblob\n",
        "#norm_test_words=norm_test_spelling.words\n",
        "#norm_test_words"
      ],
      "metadata": {
        "_uuid": "c5d0d38bd9976150367e9d75f3b933774c96a1ab",
        "_kg_hide-output": true,
        "trusted": true,
        "id": "EWEAdiHmn07Z"
      },
      "execution_count": null,
      "outputs": []
    },
    {
      "cell_type": "markdown",
      "source": [
        "**Bags of words model **\n",
        "\n",
        "It is used to convert text documents to numerical vectors or bag of words."
      ],
      "metadata": {
        "_uuid": "1c2a872ffcb6b8076fdbbba641af12081b6022ef",
        "id": "G-JX224qn07Z"
      }
    },
    {
      "cell_type": "code",
      "source": [
        "#Count vectorizer for bag of words\n",
        "cv=CountVectorizer(min_df=0,max_df=1,binary=False,ngram_range=(1,3))\n",
        "#transformed train reviews\n",
        "cv_train_reviews=cv.fit_transform(norm_train_reviews)\n",
        "#transformed test reviews\n",
        "cv_test_reviews=cv.transform(norm_test_reviews)\n",
        "\n",
        "print('BOW_cv_train:',cv_train_reviews.shape)\n",
        "print('BOW_cv_test:',cv_test_reviews.shape)\n",
        "#vocab=cv.get_feature_names()-toget feature names"
      ],
      "metadata": {
        "_uuid": "35cf9dcefb40b2dc520c5b0d559695324c46cc04",
        "trusted": true,
        "id": "C5qYCp3Dn07Z"
      },
      "execution_count": null,
      "outputs": []
    },
    {
      "cell_type": "markdown",
      "source": [
        "**Term Frequency-Inverse Document Frequency model (TFIDF)**\n",
        "\n",
        "It is used to convert text documents to  matrix of  tfidf features."
      ],
      "metadata": {
        "_uuid": "52371868f05ff9cf157280c5acf0f5bc71ee176d",
        "id": "LvvTyD0Kn07a"
      }
    },
    {
      "cell_type": "code",
      "source": [
        "#Tfidf vectorizer\n",
        "tv=TfidfVectorizer(min_df=0,max_df=1,use_idf=True,ngram_range=(1,3))\n",
        "#transformed train reviews\n",
        "tv_train_reviews=tv.fit_transform(norm_train_reviews)\n",
        "#transformed test reviews\n",
        "tv_test_reviews=tv.transform(norm_test_reviews)\n",
        "print('Tfidf_train:',tv_train_reviews.shape)\n",
        "print('Tfidf_test:',tv_test_reviews.shape)"
      ],
      "metadata": {
        "_uuid": "afe6de957339921e05a6faeaf731f2272fd31946",
        "trusted": true,
        "id": "cSZsQCUdn07a"
      },
      "execution_count": null,
      "outputs": []
    },
    {
      "cell_type": "markdown",
      "source": [
        "**Labeling the sentiment text**"
      ],
      "metadata": {
        "_uuid": "803e92b25faa738b10928a91de72d177d8dddf85",
        "id": "Ijj1s3PGn07a"
      }
    },
    {
      "cell_type": "code",
      "source": [
        "#labeling the sentient data\n",
        "lb=LabelBinarizer()\n",
        "#transformed sentiment data\n",
        "sentiment_data=lb.fit_transform(imdb_data['sentiment'])\n",
        "print(sentiment_data.shape)"
      ],
      "metadata": {
        "_uuid": "60f5d496ce4109d1cdbf08f4284d4d26efd93922",
        "trusted": true,
        "id": "9hN5T8TDn07a"
      },
      "execution_count": null,
      "outputs": []
    },
    {
      "cell_type": "markdown",
      "source": [
        "**Split the sentiment tdata**"
      ],
      "metadata": {
        "_uuid": "21a80c94fb42e14391c627710c5d796c40aa7dde",
        "id": "YSMVgy7-n07a"
      }
    },
    {
      "cell_type": "code",
      "source": [
        "#Spliting the sentiment data\n",
        "train_sentiments=sentiment_data[:40000]\n",
        "test_sentiments=sentiment_data[40000:]\n",
        "print(train_sentiments)\n",
        "print(test_sentiments)"
      ],
      "metadata": {
        "_uuid": "ca1e4cc917265ac98a72c37cffe57f27e9897408",
        "_kg_hide-output": true,
        "trusted": true,
        "id": "IbEFDV9bn07a"
      },
      "execution_count": null,
      "outputs": []
    },
    {
      "cell_type": "markdown",
      "source": [
        "**Modelling the dataset**"
      ],
      "metadata": {
        "id": "PHp_3hyCn07a"
      }
    },
    {
      "cell_type": "markdown",
      "source": [
        "Let us build logistic regression model for both bag of words and tfidf features"
      ],
      "metadata": {
        "_uuid": "d5e45fdc9d062a5b9b9dd665ffe732776e196953",
        "id": "PAJSLOcVn07a"
      }
    },
    {
      "cell_type": "code",
      "source": [
        "#training the model\n",
        "lr=LogisticRegression(penalty='l2',max_iter=500,C=1,random_state=42)\n",
        "#Fitting the model for Bag of words\n",
        "lr_bow=lr.fit(cv_train_reviews,train_sentiments)\n",
        "print(lr_bow)\n",
        "#Fitting the model for tfidf features\n",
        "lr_tfidf=lr.fit(tv_train_reviews,train_sentiments)\n",
        "print(lr_tfidf)"
      ],
      "metadata": {
        "_uuid": "142d007421900550079a12ae8655bcae678ebaad",
        "trusted": true,
        "id": "qsF0iJOBn07a"
      },
      "execution_count": null,
      "outputs": []
    },
    {
      "cell_type": "markdown",
      "source": [
        "**Logistic regression model performane on test dataset**"
      ],
      "metadata": {
        "_uuid": "07eb6d52eb32469e3be82e90af636d598a7b7c27",
        "id": "AUnmROxgn07h"
      }
    },
    {
      "cell_type": "code",
      "source": [
        "#Predicting the model for bag of words\n",
        "lr_bow_predict=lr.predict(cv_test_reviews)\n",
        "print(lr_bow_predict)\n",
        "##Predicting the model for tfidf features\n",
        "lr_tfidf_predict=lr.predict(tv_test_reviews)\n",
        "print(lr_tfidf_predict)"
      ],
      "metadata": {
        "_uuid": "52ad86935b76117f97b79e6672a3ba12352b9461",
        "trusted": true,
        "id": "uPNSXDzbn07h"
      },
      "execution_count": null,
      "outputs": []
    },
    {
      "cell_type": "markdown",
      "source": [
        "**Accuracy of the model**"
      ],
      "metadata": {
        "id": "RxkJgxBln07i"
      }
    },
    {
      "cell_type": "code",
      "source": [
        "#Accuracy score for bag of words\n",
        "lr_bow_score=accuracy_score(test_sentiments,lr_bow_predict)\n",
        "print(\"lr_bow_score :\",lr_bow_score)\n",
        "#Accuracy score for tfidf features\n",
        "lr_tfidf_score=accuracy_score(test_sentiments,lr_tfidf_predict)\n",
        "print(\"lr_tfidf_score :\",lr_tfidf_score)"
      ],
      "metadata": {
        "trusted": true,
        "id": "pUq8HRSwn07i"
      },
      "execution_count": null,
      "outputs": []
    },
    {
      "cell_type": "markdown",
      "source": [
        "**Print the classification report**"
      ],
      "metadata": {
        "_uuid": "ac2ec8353acb5e0f548e1e4a590fbe6f34f4a686",
        "id": "FU8Xi451n07i"
      }
    },
    {
      "cell_type": "code",
      "source": [
        "#Classification report for bag of words\n",
        "lr_bow_report=classification_report(test_sentiments,lr_bow_predict,target_names=['Positive','Negative'])\n",
        "print(lr_bow_report)\n",
        "\n",
        "#Classification report for tfidf features\n",
        "lr_tfidf_report=classification_report(test_sentiments,lr_tfidf_predict,target_names=['Positive','Negative'])\n",
        "print(lr_tfidf_report)"
      ],
      "metadata": {
        "_uuid": "f89c7e7a6136d08790ffbf6bc4d0d05455f8555a",
        "trusted": true,
        "id": "F1oUyER9n07i"
      },
      "execution_count": null,
      "outputs": []
    },
    {
      "cell_type": "markdown",
      "source": [
        "**Confusion matrix**"
      ],
      "metadata": {
        "_uuid": "0d2e5ddcd69ff0fb52f05f17fc74a86e1b5e5b61",
        "id": "Gqeencran07i"
      }
    },
    {
      "cell_type": "code",
      "source": [
        "#confusion matrix for bag of words\n",
        "cm_bow=confusion_matrix(test_sentiments,lr_bow_predict,labels=[1,0])\n",
        "print(cm_bow)\n",
        "#confusion matrix for tfidf features\n",
        "cm_tfidf=confusion_matrix(test_sentiments,lr_tfidf_predict,labels=[1,0])\n",
        "print(cm_tfidf)"
      ],
      "metadata": {
        "_uuid": "a36c058e834938559b7202f2142e61423a613b7a",
        "trusted": true,
        "id": "7f4fJGnTn07i"
      },
      "execution_count": null,
      "outputs": []
    },
    {
      "cell_type": "markdown",
      "source": [
        "**Stochastic gradient descent or Linear support vector machines for bag of words and tfidf features**"
      ],
      "metadata": {
        "_uuid": "8fde9753386e3593dc27c4e88e02bdc38462a018",
        "id": "HZCBN80jn07i"
      }
    },
    {
      "cell_type": "code",
      "source": [
        "#training the linear svm\n",
        "svm=SGDClassifier(loss='hinge',max_iter=500,random_state=42)\n",
        "#fitting the svm for bag of words\n",
        "svm_bow=svm.fit(cv_train_reviews,train_sentiments)\n",
        "print(svm_bow)\n",
        "#fitting the svm for tfidf features\n",
        "svm_tfidf=svm.fit(tv_train_reviews,train_sentiments)\n",
        "print(svm_tfidf)"
      ],
      "metadata": {
        "_uuid": "2211a9e97682195a0372b33e4da7267aad8548db",
        "trusted": true,
        "id": "yboduYiNn07j"
      },
      "execution_count": null,
      "outputs": []
    },
    {
      "cell_type": "markdown",
      "source": [
        "**Model performance on test data**"
      ],
      "metadata": {
        "_uuid": "e9a7a973591c1d3cabaa1a47c57fa029d3752bab",
        "id": "6LOXoJmNn07j"
      }
    },
    {
      "cell_type": "code",
      "source": [
        "#Predicting the model for bag of words\n",
        "svm_bow_predict=svm.predict(cv_test_reviews)\n",
        "print(svm_bow_predict)\n",
        "#Predicting the model for tfidf features\n",
        "svm_tfidf_predict=svm.predict(tv_test_reviews)\n",
        "print(svm_tfidf_predict)"
      ],
      "metadata": {
        "_uuid": "1a5ab738e04f0f9082c8d6ade6c2148cc398f8f3",
        "trusted": true,
        "id": "hQYPBGNNn07j"
      },
      "execution_count": null,
      "outputs": []
    },
    {
      "cell_type": "markdown",
      "source": [
        "**Accuracy of the model**"
      ],
      "metadata": {
        "id": "fpbFiNFgn07j"
      }
    },
    {
      "cell_type": "code",
      "source": [
        "#Accuracy score for bag of words\n",
        "svm_bow_score=accuracy_score(test_sentiments,svm_bow_predict)\n",
        "print(\"svm_bow_score :\",svm_bow_score)\n",
        "#Accuracy score for tfidf features\n",
        "svm_tfidf_score=accuracy_score(test_sentiments,svm_tfidf_predict)\n",
        "print(\"svm_tfidf_score :\",svm_tfidf_score)"
      ],
      "metadata": {
        "trusted": true,
        "id": "D0SkF1xrn07j"
      },
      "execution_count": null,
      "outputs": []
    },
    {
      "cell_type": "markdown",
      "source": [
        "**Print the classification report**"
      ],
      "metadata": {
        "_uuid": "b1bd245f50902ad87ca28e48cbce64ec6a16ec5a",
        "id": "3s9JLiVSn07j"
      }
    },
    {
      "cell_type": "code",
      "source": [
        "#Classification report for bag of words\n",
        "svm_bow_report=classification_report(test_sentiments,svm_bow_predict,target_names=['Positive','Negative'])\n",
        "print(svm_bow_report)\n",
        "#Classification report for tfidf features\n",
        "svm_tfidf_report=classification_report(test_sentiments,svm_tfidf_predict,target_names=['Positive','Negative'])\n",
        "print(svm_tfidf_report)"
      ],
      "metadata": {
        "_uuid": "d112bc5b4944330b567e19a7e04544a9a459f238",
        "trusted": true,
        "id": "Yatb5fBfn07j"
      },
      "execution_count": null,
      "outputs": []
    },
    {
      "cell_type": "markdown",
      "source": [
        "**Plot the confusion matrix**"
      ],
      "metadata": {
        "_uuid": "705fd8ae8bb5e6925852fffc906b6ffd769dbac0",
        "id": "E4WJ3k9gn07j"
      }
    },
    {
      "cell_type": "code",
      "source": [
        "#confusion matrix for bag of words\n",
        "cm_bow=confusion_matrix(test_sentiments,svm_bow_predict,labels=[1,0])\n",
        "print(cm_bow)\n",
        "#confusion matrix for tfidf features\n",
        "cm_tfidf=confusion_matrix(test_sentiments,svm_tfidf_predict,labels=[1,0])\n",
        "print(cm_tfidf)"
      ],
      "metadata": {
        "_uuid": "49cde912705acbaef90d7a269cd27ea8a2815f03",
        "trusted": true,
        "id": "Cvk471EXn07k"
      },
      "execution_count": null,
      "outputs": []
    },
    {
      "cell_type": "markdown",
      "source": [
        "**Multinomial Naive Bayes for bag of words and tfidf features**"
      ],
      "metadata": {
        "id": "cxTtvdTHn07k"
      }
    },
    {
      "cell_type": "code",
      "source": [
        "#training the model\n",
        "mnb=MultinomialNB()\n",
        "#fitting the svm for bag of words\n",
        "mnb_bow=mnb.fit(cv_train_reviews,train_sentiments)\n",
        "print(mnb_bow)\n",
        "#fitting the svm for tfidf features\n",
        "mnb_tfidf=mnb.fit(tv_train_reviews,train_sentiments)\n",
        "print(mnb_tfidf)"
      ],
      "metadata": {
        "trusted": true,
        "id": "ptX7pfINn07k"
      },
      "execution_count": null,
      "outputs": []
    },
    {
      "cell_type": "markdown",
      "source": [
        "**Model performance on test data**"
      ],
      "metadata": {
        "id": "04_pGBnzn07k"
      }
    },
    {
      "cell_type": "code",
      "source": [
        "#Predicting the model for bag of words\n",
        "mnb_bow_predict=mnb.predict(cv_test_reviews)\n",
        "print(mnb_bow_predict)\n",
        "#Predicting the model for tfidf features\n",
        "mnb_tfidf_predict=mnb.predict(tv_test_reviews)\n",
        "print(mnb_tfidf_predict)"
      ],
      "metadata": {
        "trusted": true,
        "id": "d5RUlvEln07k"
      },
      "execution_count": null,
      "outputs": []
    },
    {
      "cell_type": "markdown",
      "source": [
        "**Accuracy of the model**"
      ],
      "metadata": {
        "id": "vGxURqMHn07k"
      }
    },
    {
      "cell_type": "code",
      "source": [
        "#Accuracy score for bag of words\n",
        "mnb_bow_score=accuracy_score(test_sentiments,mnb_bow_predict)\n",
        "print(\"mnb_bow_score :\",mnb_bow_score)\n",
        "#Accuracy score for tfidf features\n",
        "mnb_tfidf_score=accuracy_score(test_sentiments,mnb_tfidf_predict)\n",
        "print(\"mnb_tfidf_score :\",mnb_tfidf_score)"
      ],
      "metadata": {
        "trusted": true,
        "id": "KDb2jlRin07k"
      },
      "execution_count": null,
      "outputs": []
    },
    {
      "cell_type": "markdown",
      "source": [
        "**Print the classification report**"
      ],
      "metadata": {
        "id": "vdDhJeMSn07k"
      }
    },
    {
      "cell_type": "code",
      "source": [
        "#Classification report for bag of words\n",
        "mnb_bow_report=classification_report(test_sentiments,mnb_bow_predict,target_names=['Positive','Negative'])\n",
        "print(mnb_bow_report)\n",
        "#Classification report for tfidf features\n",
        "mnb_tfidf_report=classification_report(test_sentiments,mnb_tfidf_predict,target_names=['Positive','Negative'])\n",
        "print(mnb_tfidf_report)"
      ],
      "metadata": {
        "trusted": true,
        "id": "26TpT9xkn07k"
      },
      "execution_count": null,
      "outputs": []
    },
    {
      "cell_type": "markdown",
      "source": [
        "**Plot the confusion matrix**"
      ],
      "metadata": {
        "id": "PeTuNPdrn07l"
      }
    },
    {
      "cell_type": "code",
      "source": [
        "#confusion matrix for bag of words\n",
        "cm_bow=confusion_matrix(test_sentiments,mnb_bow_predict,labels=[1,0])\n",
        "print(cm_bow)\n",
        "#confusion matrix for tfidf features\n",
        "cm_tfidf=confusion_matrix(test_sentiments,mnb_tfidf_predict,labels=[1,0])\n",
        "print(cm_tfidf)"
      ],
      "metadata": {
        "trusted": true,
        "id": "DQbvWga-n07l"
      },
      "execution_count": null,
      "outputs": []
    },
    {
      "cell_type": "markdown",
      "source": [
        "**Let us see positive and negative words by using WordCloud.**"
      ],
      "metadata": {
        "id": "2CO4gz4zn07l"
      }
    },
    {
      "cell_type": "markdown",
      "source": [
        "**Word cloud for positive review words**"
      ],
      "metadata": {
        "id": "jATR6s-3n07l"
      }
    },
    {
      "cell_type": "code",
      "source": [
        "#word cloud for positive review words\n",
        "plt.figure(figsize=(10,10))\n",
        "positive_text=norm_train_reviews[1]\n",
        "WC=WordCloud(width=1000,height=500,max_words=500,min_font_size=5)\n",
        "positive_words=WC.generate(positive_text)\n",
        "plt.imshow(positive_words,interpolation='bilinear')\n",
        "plt.show"
      ],
      "metadata": {
        "trusted": true,
        "id": "EgQQZBwTn07l"
      },
      "execution_count": null,
      "outputs": []
    },
    {
      "cell_type": "markdown",
      "source": [
        "**Word cloud for negative review words**"
      ],
      "metadata": {
        "id": "o6KjMIvan07l"
      }
    },
    {
      "cell_type": "code",
      "source": [
        "#Word cloud for negative review words\n",
        "plt.figure(figsize=(10,10))\n",
        "negative_text=norm_train_reviews[8]\n",
        "WC=WordCloud(width=1000,height=500,max_words=500,min_font_size=5)\n",
        "negative_words=WC.generate(negative_text)\n",
        "plt.imshow(negative_words,interpolation='bilinear')\n",
        "plt.show"
      ],
      "metadata": {
        "trusted": true,
        "id": "MOTrScwrn07l"
      },
      "execution_count": null,
      "outputs": []
    },
    {
      "cell_type": "markdown",
      "source": [
        "**Conclusion:**\n",
        "* We can observed that both logistic regression and multinomial naive bayes model performing well compared to linear support vector  machines.\n",
        "* Still we can improve the accuracy of the models by preprocessing data and by using lexicon models like Textblob."
      ],
      "metadata": {
        "id": "rhPNbIifn07l"
      }
    }
  ]
}